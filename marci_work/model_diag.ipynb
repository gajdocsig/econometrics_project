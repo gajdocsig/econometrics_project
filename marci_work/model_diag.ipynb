{
 "cells": [
  {
   "cell_type": "code",
   "execution_count": 5,
   "id": "3b1909ba",
   "metadata": {
    "vscode": {
     "languageId": "r"
    }
   },
   "outputs": [],
   "source": [
    "library(readxl)\n",
    "library(dplyr)"
   ]
  },
  {
   "cell_type": "markdown",
   "id": "edc128db",
   "metadata": {
    "vscode": {
     "languageId": "r"
    }
   },
   "source": [
    "Gasolnie"
   ]
  },
  {
   "cell_type": "code",
   "execution_count": 60,
   "id": "d9757cef",
   "metadata": {
    "vscode": {
     "languageId": "r"
    }
   },
   "outputs": [],
   "source": [
    "fuel_prices <- read_excel(\"fuel_prices_tidy.xlsx\")\n",
    "\n",
    "fuel_prices <- fuel_prices %>%\n",
    "  mutate(\n",
    "    dummy_fovarosi_kerulet = ifelse(is_motorway == 1, 0, dummy_fovarosi_kerulet),\n",
    "    dummy_kozseg = ifelse(is_motorway == 1, 0, dummy_kozseg),\n",
    "    dummy_megyei_jogu_varos = ifelse(is_motorway == 1, 0, dummy_megyei_jogu_varos),\n",
    "    dummy_megye_szekhely_megyei_jogu_varos = ifelse(is_motorway == 1, 0, dummy_megye_szekhely_megyei_jogu_varos),\n",
    "    dummy_nagykkozseg = ifelse(is_motorway == 1, 0, dummy_nagykkozseg),\n",
    "    dummy_varos = ifelse(is_motorway == 1, 0, dummy_varos),\n",
    "    popper_modified = ifelse(nearest_distance_km == 0, pop_per_station, 0)\n",
    "  )\n",
    "\n",
    "  fuel_prices <- fuel_prices %>%\n",
    "  mutate(\n",
    "    log_Population = log(Population),\n",
    "    log_Dwellings = log(Dwellings),\n",
    "    log_pop_per_station = log1p(pop_per_station),\n",
    "    log_popper_modified = log1p(popper_modified),\n",
    "    log_nearest_diff_brand_km = log1p(nearest_diff_brand_km),\n",
    "    log_nearest_distance_km = log1p(nearest_distance_km),\n",
    "    log_income = log(income),\n",
    "    log_nearest_refinery_km = log(nearest_refinery_km)\n",
    "  )\n",
    "\n",
    "  fuel_prices <- fuel_prices %>%\n",
    "  mutate(\n",
    "    Diff = Diesel - Gasoline\n",
    "  )\n"
   ]
  },
  {
   "cell_type": "code",
   "execution_count": 34,
   "id": "b684a036",
   "metadata": {
    "vscode": {
     "languageId": "r"
    }
   },
   "outputs": [
    {
     "data": {
      "text/plain": [
       "\n",
       "Call:\n",
       "lm(formula = Gasoline ~ log_income + log_popper_modified + dummy_Edo + \n",
       "    dummy_Avia + dummy_Oplus_Kft + is_motorway + dummy_Mol + \n",
       "    dummy_Shell + dummy_Auchan + dummy_Omv + dummy_Orlen + dummy_Mobil_Petrol + \n",
       "    dummy_nagykkozseg + dummy_kozseg, data = fuel_prices, na.action = na.exclude)\n",
       "\n",
       "Residuals:\n",
       "    Min      1Q  Median      3Q     Max \n",
       "-57.941  -0.919   0.138   1.006  44.688 \n",
       "\n",
       "Coefficients:\n",
       "                     Estimate Std. Error t value Pr(>|t|)    \n",
       "(Intercept)         607.41782   17.62847  34.457  < 2e-16 ***\n",
       "log_income           -2.32841    1.33463  -1.745  0.08132 .  \n",
       "log_popper_modified   0.13759    0.06574   2.093  0.03655 *  \n",
       "dummy_Edo            -4.40417    2.21121  -1.992  0.04663 *  \n",
       "dummy_Avia            2.63849    1.33196   1.981  0.04783 *  \n",
       "dummy_Oplus_Kft       5.28061    2.55754   2.065  0.03917 *  \n",
       "is_motorway          42.24611    0.71580  59.019  < 2e-16 ***\n",
       "dummy_Mol             6.50957    0.54446  11.956  < 2e-16 ***\n",
       "dummy_Shell           6.07604    0.65143   9.327  < 2e-16 ***\n",
       "dummy_Auchan         -9.07586    1.47865  -6.138 1.14e-09 ***\n",
       "dummy_Omv             4.86455    0.66219   7.346 3.80e-13 ***\n",
       "dummy_Orlen           4.46648    0.68213   6.548 8.70e-11 ***\n",
       "dummy_Mobil_Petrol   -2.80150    0.99176  -2.825  0.00481 ** \n",
       "dummy_nagykkozseg     3.17403    1.07060   2.965  0.00309 ** \n",
       "dummy_kozseg          2.11479    0.72376   2.922  0.00355 ** \n",
       "---\n",
       "Signif. codes:  0 '***' 0.001 '**' 0.01 '*' 0.05 '.' 0.1 ' ' 1\n",
       "\n",
       "Residual standard error: 6.125 on 1176 degrees of freedom\n",
       "Multiple R-squared:  0.7731,\tAdjusted R-squared:  0.7704 \n",
       "F-statistic: 286.2 on 14 and 1176 DF,  p-value: < 2.2e-16\n"
      ]
     },
     "metadata": {},
     "output_type": "display_data"
    }
   ],
   "source": [
    "# Lineáris regresszió a megadott specifikációval\n",
    "m_fit <- lm(\n",
    "Gasoline ~ log_income + log_popper_modified + dummy_Edo + dummy_Avia + dummy_Oplus_Kft + is_motorway + dummy_Mol + dummy_Shell + dummy_Auchan + dummy_Omv + dummy_Orlen + dummy_Mobil_Petrol + dummy_nagykkozseg + dummy_kozseg,\n",
    "  data = fuel_prices,\n",
    "  na.action = na.exclude\n",
    ")\n",
    "\n",
    "# Eredmények\n",
    "summary(m_fit)\n",
    "\n"
   ]
  },
  {
   "cell_type": "code",
   "execution_count": 35,
   "id": "4db68499",
   "metadata": {
    "vscode": {
     "languageId": "r"
    }
   },
   "outputs": [
    {
     "data": {
      "text/plain": [
       "\n",
       "\tstudentized Breusch-Pagan test\n",
       "\n",
       "data:  m_fit\n",
       "BP = 179.36, df = 14, p-value < 2.2e-16\n"
      ]
     },
     "metadata": {},
     "output_type": "display_data"
    },
    {
     "data": {
      "image/png": "[encoded data removed]",
      "text/plain": [
       "plot without title"
      ]
     },
     "metadata": {
      "image/png": {
       "height": 420,
       "width": 420
      }
     },
     "output_type": "display_data"
    },
    {
     "data": {
      "text/plain": [
       "\n",
       "\tShapiro-Wilk normality test\n",
       "\n",
       "data:  resid(m_fit)\n",
       "W = 0.64823, p-value < 2.2e-16\n"
      ]
     },
     "metadata": {},
     "output_type": "display_data"
    },
    {
     "data": {
      "text/html": [
       "<style>\n",
       ".dl-inline {width: auto; margin:0; padding: 0}\n",
       ".dl-inline>dt, .dl-inline>dd {float: none; width: auto; display: inline-block}\n",
       ".dl-inline>dt::after {content: \":\\0020\"; padding-right: .5ex}\n",
       ".dl-inline>dt:not(:first-of-type) {padding-left: .5ex}\n",
       "</style><dl class=dl-inline><dt>log_income</dt><dd>1.11142746533754</dd><dt>log_popper_modified</dt><dd>1.71392243179896</dd><dt>dummy_Edo</dt><dd>1.03565322922553</dd><dt>dummy_Avia</dt><dd>1.11210470168158</dd><dt>dummy_Oplus_Kft</dt><dd>1.04086623858093</dd><dt>is_motorway</dt><dd>1.04281955753357</dd><dt>dummy_Mol</dt><dd>2.07797734895431</dd><dt>dummy_Shell</dt><dd>1.74411231831331</dd><dt>dummy_Auchan</dt><dd>1.08965468202789</dd><dt>dummy_Omv</dt><dd>1.72009011499782</dd><dt>dummy_Orlen</dt><dd>1.51327156868096</dd><dt>dummy_Mobil_Petrol</dt><dd>1.23184684816197</dd><dt>dummy_nagykkozseg</dt><dd>1.18105740094329</dd><dt>dummy_kozseg</dt><dd>1.55116822495105</dd></dl>\n"
      ],
      "text/latex": [
       "\\begin{description*}\n",
       "\\item[log\\textbackslash{}\\_income] 1.11142746533754\n",
       "\\item[log\\textbackslash{}\\_popper\\textbackslash{}\\_modified] 1.71392243179896\n",
       "\\item[dummy\\textbackslash{}\\_Edo] 1.03565322922553\n",
       "\\item[dummy\\textbackslash{}\\_Avia] 1.11210470168158\n",
       "\\item[dummy\\textbackslash{}\\_Oplus\\textbackslash{}\\_Kft] 1.04086623858093\n",
       "\\item[is\\textbackslash{}\\_motorway] 1.04281955753357\n",
       "\\item[dummy\\textbackslash{}\\_Mol] 2.07797734895431\n",
       "\\item[dummy\\textbackslash{}\\_Shell] 1.74411231831331\n",
       "\\item[dummy\\textbackslash{}\\_Auchan] 1.08965468202789\n",
       "\\item[dummy\\textbackslash{}\\_Omv] 1.72009011499782\n",
       "\\item[dummy\\textbackslash{}\\_Orlen] 1.51327156868096\n",
       "\\item[dummy\\textbackslash{}\\_Mobil\\textbackslash{}\\_Petrol] 1.23184684816197\n",
       "\\item[dummy\\textbackslash{}\\_nagykkozseg] 1.18105740094329\n",
       "\\item[dummy\\textbackslash{}\\_kozseg] 1.55116822495105\n",
       "\\end{description*}\n"
      ],
      "text/markdown": [
       "log_income\n",
       ":   1.11142746533754log_popper_modified\n",
       ":   1.71392243179896dummy_Edo\n",
       ":   1.03565322922553dummy_Avia\n",
       ":   1.11210470168158dummy_Oplus_Kft\n",
       ":   1.04086623858093is_motorway\n",
       ":   1.04281955753357dummy_Mol\n",
       ":   2.07797734895431dummy_Shell\n",
       ":   1.74411231831331dummy_Auchan\n",
       ":   1.08965468202789dummy_Omv\n",
       ":   1.72009011499782dummy_Orlen\n",
       ":   1.51327156868096dummy_Mobil_Petrol\n",
       ":   1.23184684816197dummy_nagykkozseg\n",
       ":   1.18105740094329dummy_kozseg\n",
       ":   1.55116822495105\n",
       "\n"
      ],
      "text/plain": [
       "         log_income log_popper_modified           dummy_Edo          dummy_Avia \n",
       "           1.111427            1.713922            1.035653            1.112105 \n",
       "    dummy_Oplus_Kft         is_motorway           dummy_Mol         dummy_Shell \n",
       "           1.040866            1.042820            2.077977            1.744112 \n",
       "       dummy_Auchan           dummy_Omv         dummy_Orlen  dummy_Mobil_Petrol \n",
       "           1.089655            1.720090            1.513272            1.231847 \n",
       "  dummy_nagykkozseg        dummy_kozseg \n",
       "           1.181057            1.551168 "
      ]
     },
     "metadata": {},
     "output_type": "display_data"
    },
    {
     "data": {
      "text/html": [
       "<style>\n",
       ".dl-inline {width: auto; margin:0; padding: 0}\n",
       ".dl-inline>dt, .dl-inline>dd {float: none; width: auto; display: inline-block}\n",
       ".dl-inline>dt::after {content: \":\\0020\"; padding-right: .5ex}\n",
       ".dl-inline>dt:not(:first-of-type) {padding-left: .5ex}\n",
       "</style><dl class=dl-inline><dt>dummy_Mol</dt><dd>2.07797734895431</dd><dt>dummy_Shell</dt><dd>1.74411231831331</dd><dt>dummy_Omv</dt><dd>1.72009011499782</dd><dt>log_popper_modified</dt><dd>1.71392243179896</dd><dt>dummy_kozseg</dt><dd>1.55116822495105</dd><dt>dummy_Orlen</dt><dd>1.51327156868096</dd><dt>dummy_Mobil_Petrol</dt><dd>1.23184684816197</dd><dt>dummy_nagykkozseg</dt><dd>1.18105740094329</dd><dt>dummy_Avia</dt><dd>1.11210470168158</dd><dt>log_income</dt><dd>1.11142746533754</dd><dt>dummy_Auchan</dt><dd>1.08965468202789</dd><dt>is_motorway</dt><dd>1.04281955753357</dd><dt>dummy_Oplus_Kft</dt><dd>1.04086623858093</dd><dt>dummy_Edo</dt><dd>1.03565322922553</dd></dl>\n"
      ],
      "text/latex": [
       "\\begin{description*}\n",
       "\\item[dummy\\textbackslash{}\\_Mol] 2.07797734895431\n",
       "\\item[dummy\\textbackslash{}\\_Shell] 1.74411231831331\n",
       "\\item[dummy\\textbackslash{}\\_Omv] 1.72009011499782\n",
       "\\item[log\\textbackslash{}\\_popper\\textbackslash{}\\_modified] 1.71392243179896\n",
       "\\item[dummy\\textbackslash{}\\_kozseg] 1.55116822495105\n",
       "\\item[dummy\\textbackslash{}\\_Orlen] 1.51327156868096\n",
       "\\item[dummy\\textbackslash{}\\_Mobil\\textbackslash{}\\_Petrol] 1.23184684816197\n",
       "\\item[dummy\\textbackslash{}\\_nagykkozseg] 1.18105740094329\n",
       "\\item[dummy\\textbackslash{}\\_Avia] 1.11210470168158\n",
       "\\item[log\\textbackslash{}\\_income] 1.11142746533754\n",
       "\\item[dummy\\textbackslash{}\\_Auchan] 1.08965468202789\n",
       "\\item[is\\textbackslash{}\\_motorway] 1.04281955753357\n",
       "\\item[dummy\\textbackslash{}\\_Oplus\\textbackslash{}\\_Kft] 1.04086623858093\n",
       "\\item[dummy\\textbackslash{}\\_Edo] 1.03565322922553\n",
       "\\end{description*}\n"
      ],
      "text/markdown": [
       "dummy_Mol\n",
       ":   2.07797734895431dummy_Shell\n",
       ":   1.74411231831331dummy_Omv\n",
       ":   1.72009011499782log_popper_modified\n",
       ":   1.71392243179896dummy_kozseg\n",
       ":   1.55116822495105dummy_Orlen\n",
       ":   1.51327156868096dummy_Mobil_Petrol\n",
       ":   1.23184684816197dummy_nagykkozseg\n",
       ":   1.18105740094329dummy_Avia\n",
       ":   1.11210470168158log_income\n",
       ":   1.11142746533754dummy_Auchan\n",
       ":   1.08965468202789is_motorway\n",
       ":   1.04281955753357dummy_Oplus_Kft\n",
       ":   1.04086623858093dummy_Edo\n",
       ":   1.03565322922553\n",
       "\n"
      ],
      "text/plain": [
       "          dummy_Mol         dummy_Shell           dummy_Omv log_popper_modified \n",
       "           2.077977            1.744112            1.720090            1.713922 \n",
       "       dummy_kozseg         dummy_Orlen  dummy_Mobil_Petrol   dummy_nagykkozseg \n",
       "           1.551168            1.513272            1.231847            1.181057 \n",
       "         dummy_Avia          log_income        dummy_Auchan         is_motorway \n",
       "           1.112105            1.111427            1.089655            1.042820 \n",
       "    dummy_Oplus_Kft           dummy_Edo \n",
       "           1.040866            1.035653 "
      ]
     },
     "metadata": {},
     "output_type": "display_data"
    },
    {
     "data": {
      "image/png": "[encoded data removed]",
      "text/plain": [
       "Plot with title \"Normal Q-Q Plot\""
      ]
     },
     "metadata": {
      "image/png": {
       "height": 420,
       "width": 420
      }
     },
     "output_type": "display_data"
    }
   ],
   "source": [
    "# feltételezem, hogy m_fit már létezik\n",
    "library(ggplot2)\n",
    "library(lmtest)\n",
    "library(car)\n",
    "library(dplyr)\n",
    "\n",
    "# --- 1. Y vs reziduálisok ábra ---\n",
    "fuel_prices$fit <- fitted(m_fit)\n",
    "fuel_prices$resid <- resid(m_fit)\n",
    "\n",
    "ggplot(fuel_prices, aes(x = fit, y = resid)) +\n",
    "  geom_point(alpha = 0.6) +\n",
    "  geom_hline(yintercept = 0, linetype = \"dashed\", color = \"red\") +\n",
    "  labs(\n",
    "    x = \"Illesztett értékek\",\n",
    "    y = \"Reziduálisok\",\n",
    "    title = \"Illesztett értékek vs. reziduálisok\"\n",
    "  ) +\n",
    "  theme_minimal()\n",
    "\n",
    "# --- 2. Breusch–Pagan teszt (heteroszkedaszticitásra) ---\n",
    "bp_result <- bptest(m_fit)\n",
    "bp_result\n",
    "\n",
    "# --- 3. QQ-plot a reziduálisokra ---\n",
    "qqnorm(resid(m_fit))\n",
    "qqline(resid(m_fit), col = \"red\", lwd = 2)\n",
    "\n",
    "# --- 4. Normalitás teszt (Shapiro–Wilk) ---\n",
    "shapiro_test <- shapiro.test(resid(m_fit))\n",
    "shapiro_test\n",
    "\n",
    "# --- 5. Multikollinearitás (VIF) ---\n",
    "vif_values <- car::vif(m_fit)\n",
    "vif_values\n",
    "\n",
    "# Ha szeretnéd, sorba rendezve is:\n",
    "vif_values[order(vif_values, decreasing = TRUE)]\n"
   ]
  },
  {
   "cell_type": "code",
   "execution_count": 41,
   "id": "f1b37f30",
   "metadata": {
    "vscode": {
     "languageId": "r"
    }
   },
   "outputs": [
    {
     "data": {
      "text/plain": [
       "\n",
       "Call:\n",
       "lm_robust(formula = Gasoline ~ log_income + log_popper_modified + \n",
       "    is_motorway + dummy_Mol + dummy_Shell + dummy_Auchan + dummy_Omv + \n",
       "    dummy_Orlen + dummy_Mobil_Petrol + dummy_nagykkozseg + dummy_kozseg + \n",
       "    dummy_Edo + dummy_Avia + dummy_Oplus_Kft, data = fuel_prices)\n",
       "\n",
       "Standard error type:  HC2 \n",
       "\n",
       "Coefficients:\n",
       "                    Estimate Std. Error t value   Pr(>|t|)  CI Lower CI Upper\n",
       "(Intercept)         607.4178   13.11962  46.298 2.928e-267 581.67736 633.1583\n",
       "log_income           -2.3284    1.00758  -2.311  2.101e-02  -4.30525  -0.3516\n",
       "log_popper_modified   0.1376    0.08863   1.552  1.208e-01  -0.03629   0.3115\n",
       "is_motorway          42.2461    1.75374  24.089 1.527e-104  38.80530  45.6869\n",
       "dummy_Mol             6.5096    0.77186   8.434  9.700e-17   4.99520   8.0239\n",
       "dummy_Shell           6.0760    0.77328   7.858  8.793e-15   4.55889   7.5932\n",
       "dummy_Auchan         -9.0759    0.76093 -11.927  4.852e-31 -10.56880  -7.5829\n",
       "dummy_Omv             4.8645    0.88605   5.490  4.918e-08   3.12612   6.6030\n",
       "dummy_Orlen           4.4665    0.85638   5.216  2.164e-07   2.78627   6.1467\n",
       "dummy_Mobil_Petrol   -2.8015    1.82947  -1.531  1.260e-01  -6.39089   0.7879\n",
       "dummy_nagykkozseg     3.1740    1.52490   2.081  3.761e-02   0.18221   6.1658\n",
       "dummy_kozseg          2.1148    1.06612   1.984  4.753e-02   0.02309   4.2065\n",
       "dummy_Edo            -4.4042    1.34893  -3.265  1.126e-03  -7.05075  -1.7576\n",
       "dummy_Avia            2.6385    1.70810   1.545  1.227e-01  -0.71278   5.9898\n",
       "dummy_Oplus_Kft       5.2806    0.87918   6.006  2.526e-09   3.55568   7.0055\n",
       "                      DF\n",
       "(Intercept)         1176\n",
       "log_income          1176\n",
       "log_popper_modified 1176\n",
       "is_motorway         1176\n",
       "dummy_Mol           1176\n",
       "dummy_Shell         1176\n",
       "dummy_Auchan        1176\n",
       "dummy_Omv           1176\n",
       "dummy_Orlen         1176\n",
       "dummy_Mobil_Petrol  1176\n",
       "dummy_nagykkozseg   1176\n",
       "dummy_kozseg        1176\n",
       "dummy_Edo           1176\n",
       "dummy_Avia          1176\n",
       "dummy_Oplus_Kft     1176\n",
       "\n",
       "Multiple R-squared:  0.7731 ,\tAdjusted R-squared:  0.7704 \n",
       "F-statistic:   435 on 14 and 1176 DF,  p-value: < 2.2e-16"
      ]
     },
     "metadata": {},
     "output_type": "display_data"
    }
   ],
   "source": [
    "library(estimatr)\n",
    "\n",
    "m_fit_robust <- lm_robust(\n",
    "  Gasoline ~ log_income + log_popper_modified + is_motorway + dummy_Mol + dummy_Shell + dummy_Auchan +\n",
    "    dummy_Omv + dummy_Orlen + dummy_Mobil_Petrol + dummy_nagykkozseg +\n",
    "    dummy_kozseg + dummy_Edo + dummy_Avia + dummy_Oplus_Kft,\n",
    "  data = fuel_prices\n",
    ")\n",
    "\n",
    "summary(m_fit_robust)"
   ]
  },
  {
   "cell_type": "code",
   "execution_count": 44,
   "id": "859ed44d",
   "metadata": {
    "vscode": {
     "languageId": "r"
    }
   },
   "outputs": [
    {
     "data": {
      "text/html": [
       "<table class=\"dataframe\">\n",
       "<caption>A tibble: 5 × 2</caption>\n",
       "<thead>\n",
       "\t<tr><th scope=col>id</th><th scope=col>R2_out</th></tr>\n",
       "\t<tr><th scope=col>&lt;chr&gt;</th><th scope=col>&lt;dbl&gt;</th></tr>\n",
       "</thead>\n",
       "<tbody>\n",
       "\t<tr><td>Fold1</td><td>0.7900740</td></tr>\n",
       "\t<tr><td>Fold2</td><td>0.6672260</td></tr>\n",
       "\t<tr><td>Fold3</td><td>0.8159212</td></tr>\n",
       "\t<tr><td>Fold4</td><td>0.7496839</td></tr>\n",
       "\t<tr><td>Fold5</td><td>0.8020459</td></tr>\n",
       "</tbody>\n",
       "</table>\n"
      ],
      "text/latex": [
       "A tibble: 5 × 2\n",
       "\\begin{tabular}{ll}\n",
       " id & R2\\_out\\\\\n",
       " <chr> & <dbl>\\\\\n",
       "\\hline\n",
       "\t Fold1 & 0.7900740\\\\\n",
       "\t Fold2 & 0.6672260\\\\\n",
       "\t Fold3 & 0.8159212\\\\\n",
       "\t Fold4 & 0.7496839\\\\\n",
       "\t Fold5 & 0.8020459\\\\\n",
       "\\end{tabular}\n"
      ],
      "text/markdown": [
       "\n",
       "A tibble: 5 × 2\n",
       "\n",
       "| id &lt;chr&gt; | R2_out &lt;dbl&gt; |\n",
       "|---|---|\n",
       "| Fold1 | 0.7900740 |\n",
       "| Fold2 | 0.6672260 |\n",
       "| Fold3 | 0.8159212 |\n",
       "| Fold4 | 0.7496839 |\n",
       "| Fold5 | 0.8020459 |\n",
       "\n"
      ],
      "text/plain": [
       "  id    R2_out   \n",
       "1 Fold1 0.7900740\n",
       "2 Fold2 0.6672260\n",
       "3 Fold3 0.8159212\n",
       "4 Fold4 0.7496839\n",
       "5 Fold5 0.8020459"
      ]
     },
     "metadata": {},
     "output_type": "display_data"
    },
    {
     "data": {
      "text/html": [
       "0.764990171219148"
      ],
      "text/latex": [
       "0.764990171219148"
      ],
      "text/markdown": [
       "0.764990171219148"
      ],
      "text/plain": [
       "[1] 0.7649902"
      ]
     },
     "metadata": {},
     "output_type": "display_data"
    }
   ],
   "source": [
    "library(estimatr)\n",
    "library(rsample)\n",
    "library(dplyr)\n",
    "library(purrr)\n",
    "\n",
    "\n",
    "set.seed(120)\n",
    "\n",
    "# 5-fold cross-validation\n",
    "folds <- vfold_cv(fuel_prices, v = 5)\n",
    "\n",
    "# függvény: adott train/test splitre illeszt és számol R^2-t\n",
    "cv_results <- folds %>%\n",
    "  mutate(\n",
    "    model = map(splits, ~ lm_robust(\n",
    "      Gasoline ~ is_motorway + dummy_Mol + dummy_Shell + dummy_Auchan +\n",
    "        dummy_Omv + dummy_Orlen + dummy_Mobil_Petrol + dummy_nagykkozseg +\n",
    "        dummy_kozseg + dummy_Edo + dummy_Avia + dummy_Oplus_Kft + PC1_rest,\n",
    "      data = analysis(.x)\n",
    "    )),\n",
    "    preds = map2(model, splits, ~ {\n",
    "      test_data <- assessment(.y)\n",
    "      test_data$pred <- predict(.x, newdata = test_data)\n",
    "      test_data\n",
    "    }),\n",
    "    R2_out = map_dbl(preds, ~ {\n",
    "      with(.x, 1 - sum((Gasoline - pred)^2) / sum((Gasoline - mean(Gasoline))^2))\n",
    "    })\n",
    "  )\n",
    "\n",
    "# foldonkénti és átlagos out-of-sample R^2\n",
    "cv_results %>% select(id, R2_out)\n",
    "mean(cv_results$R2_out)\n"
   ]
  },
  {
   "cell_type": "code",
   "execution_count": null,
   "id": "d52e2a20",
   "metadata": {
    "vscode": {
     "languageId": "r"
    }
   },
   "outputs": [],
   "source": []
  },
  {
   "cell_type": "markdown",
   "id": "9e68221f",
   "metadata": {
    "vscode": {
     "languageId": "r"
    }
   },
   "source": [
    "0.7654157 volt a csúcs, ez 0.764990171219148"
   ]
  },
  {
   "cell_type": "code",
   "execution_count": null,
   "id": "07aef617",
   "metadata": {
    "vscode": {
     "languageId": "r"
    }
   },
   "outputs": [],
   "source": [
    "Diesel"
   ]
  },
  {
   "cell_type": "code",
   "execution_count": 51,
   "id": "07e0f917",
   "metadata": {
    "vscode": {
     "languageId": "r"
    }
   },
   "outputs": [
    {
     "data": {
      "text/plain": [
       "\n",
       "Call:\n",
       "lm(formula = Diesel ~ is_motorway + dummy_Mol + dummy_Shell + \n",
       "    dummy_Auchan + dummy_Omv + dummy_Orlen + dummy_nagykkozseg + \n",
       "    dummy_kozseg + log_popper_modified + log_nearest_diff_brand_km + \n",
       "    Population, data = fuel_prices, na.action = na.exclude)\n",
       "\n",
       "Residuals:\n",
       "    Min      1Q  Median      3Q     Max \n",
       "-48.236  -0.954   0.221   1.190  32.385 \n",
       "\n",
       "Coefficients:\n",
       "                            Estimate Std. Error t value Pr(>|t|)    \n",
       "(Intercept)                5.810e+02  1.118e+00 519.797  < 2e-16 ***\n",
       "is_motorway                4.116e+01  7.322e-01  56.214  < 2e-16 ***\n",
       "dummy_Mol                  7.336e+00  4.705e-01  15.592  < 2e-16 ***\n",
       "dummy_Shell                6.529e+00  5.796e-01  11.265  < 2e-16 ***\n",
       "dummy_Auchan              -1.236e+01  1.404e+00  -8.803  < 2e-16 ***\n",
       "dummy_Omv                  7.070e+00  5.867e-01  12.052  < 2e-16 ***\n",
       "dummy_Orlen                5.683e+00  6.124e-01   9.278  < 2e-16 ***\n",
       "dummy_nagykkozseg          2.866e+00  1.025e+00   2.796  0.00526 ** \n",
       "dummy_kozseg               1.506e+00  6.917e-01   2.177  0.02968 *  \n",
       "log_popper_modified        3.260e-01  1.325e-01   2.461  0.01399 *  \n",
       "log_nearest_diff_brand_km  8.159e-01  4.476e-01   1.823  0.06855 .  \n",
       "Population                -8.659e-06  4.046e-06  -2.140  0.03256 *  \n",
       "---\n",
       "Signif. codes:  0 '***' 0.001 '**' 0.01 '*' 0.05 '.' 0.1 ' ' 1\n",
       "\n",
       "Residual standard error: 5.879 on 1179 degrees of freedom\n",
       "Multiple R-squared:  0.7928,\tAdjusted R-squared:  0.7909 \n",
       "F-statistic: 410.1 on 11 and 1179 DF,  p-value: < 2.2e-16\n"
      ]
     },
     "metadata": {},
     "output_type": "display_data"
    }
   ],
   "source": [
    "# Lineáris regresszió a megadott specifikációval\n",
    "m_fit <- lm(\n",
    "Diesel ~ is_motorway + dummy_Mol + dummy_Shell + dummy_Auchan + dummy_Omv + dummy_Orlen  + dummy_nagykkozseg + dummy_kozseg + log_popper_modified + log_nearest_diff_brand_km + Population,\n",
    "  data = fuel_prices,\n",
    "  na.action = na.exclude\n",
    ")\n",
    "\n",
    "# Eredmények\n",
    "summary(m_fit)"
   ]
  },
  {
   "cell_type": "code",
   "execution_count": 50,
   "id": "848b5806",
   "metadata": {
    "vscode": {
     "languageId": "r"
    }
   },
   "outputs": [
    {
     "name": "stdout",
     "output_type": "stream",
     "text": [
      "\u001b[90m# A tibble: 11 × 2\u001b[39m\n",
      "   term                      p_value\n",
      "   \u001b[3m\u001b[90m<chr>\u001b[39m\u001b[23m                       \u001b[3m\u001b[90m<dbl>\u001b[39m\u001b[23m\n",
      "\u001b[90m 1\u001b[39m log_nearest_diff_brand_km 0.068\u001b[4m6\u001b[24m \n",
      "\u001b[90m 2\u001b[39m Population                0.032\u001b[4m6\u001b[24m \n",
      "\u001b[90m 3\u001b[39m dummy_kozseg              0.029\u001b[4m7\u001b[24m \n",
      "\u001b[90m 4\u001b[39m log_popper_modified       0.014\u001b[4m0\u001b[24m \n",
      "\u001b[90m 5\u001b[39m dummy_nagykkozseg         0.005\u001b[4m2\u001b[24m\u001b[4m6\u001b[24m\n",
      "\u001b[90m 6\u001b[39m dummy_Auchan              0      \n",
      "\u001b[90m 7\u001b[39m dummy_Orlen               0      \n",
      "\u001b[90m 8\u001b[39m dummy_Shell               0      \n",
      "\u001b[90m 9\u001b[39m dummy_Omv                 0      \n",
      "\u001b[90m10\u001b[39m dummy_Mol                 0      \n",
      "\u001b[90m11\u001b[39m is_motorway               0      \n"
     ]
    }
   ],
   "source": [
    "library(broom)\n",
    "library(dplyr)\n",
    "\n",
    "# Regresszió (ha már lefuttattad, ezt nem kell újra futtatni)\n",
    "# model_full <- lm(...)\n",
    "\n",
    "# Koeficiensek p-érték szerint rendezve\n",
    "tidy(m_fit) %>%\n",
    "  filter(term != \"(Intercept)\") %>%        # konstans kihagyása\n",
    "  arrange(desc(p.value)) %>%                     # növekvő sorrendben p-érték szerint\n",
    "  mutate(p_value = round(p.value, 5)) %>%  # p-érték 5 tizedesre kerekítve\n",
    "  select(term, p_value) %>%\n",
    "  print(n = 30) "
   ]
  },
  {
   "cell_type": "code",
   "execution_count": 52,
   "id": "687540c0",
   "metadata": {
    "vscode": {
     "languageId": "r"
    }
   },
   "outputs": [
    {
     "data": {
      "text/plain": [
       "\n",
       "\tstudentized Breusch-Pagan test\n",
       "\n",
       "data:  m_fit\n",
       "BP = 226.1, df = 11, p-value < 2.2e-16\n"
      ]
     },
     "metadata": {},
     "output_type": "display_data"
    },
    {
     "data": {
      "image/png": "[encoded data removed]",
      "text/plain": [
       "plot without title"
      ]
     },
     "metadata": {
      "image/png": {
       "height": 420,
       "width": 420
      }
     },
     "output_type": "display_data"
    },
    {
     "data": {
      "text/plain": [
       "\n",
       "\tShapiro-Wilk normality test\n",
       "\n",
       "data:  resid(m_fit)\n",
       "W = 0.69222, p-value < 2.2e-16\n"
      ]
     },
     "metadata": {},
     "output_type": "display_data"
    },
    {
     "data": {
      "text/html": [
       "<style>\n",
       ".dl-inline {width: auto; margin:0; padding: 0}\n",
       ".dl-inline>dt, .dl-inline>dd {float: none; width: auto; display: inline-block}\n",
       ".dl-inline>dt::after {content: \":\\0020\"; padding-right: .5ex}\n",
       ".dl-inline>dt:not(:first-of-type) {padding-left: .5ex}\n",
       "</style><dl class=dl-inline><dt>is_motorway</dt><dd>1.1842812971221</dd><dt>dummy_Mol</dt><dd>1.68453718778488</dd><dt>dummy_Shell</dt><dd>1.49853164266993</dd><dt>dummy_Auchan</dt><dd>1.06599474006217</dd><dt>dummy_Omv</dt><dd>1.46545672712675</dd><dt>dummy_Orlen</dt><dd>1.32407414891499</dd><dt>dummy_nagykkozseg</dt><dd>1.17477592725836</dd><dt>dummy_kozseg</dt><dd>1.5380072387393</dd><dt>log_popper_modified</dt><dd>7.55378579755101</dd><dt>log_nearest_diff_brand_km</dt><dd>6.30094800555485</dd><dt>Population</dt><dd>1.41010478492354</dd></dl>\n"
      ],
      "text/latex": [
       "\\begin{description*}\n",
       "\\item[is\\textbackslash{}\\_motorway] 1.1842812971221\n",
       "\\item[dummy\\textbackslash{}\\_Mol] 1.68453718778488\n",
       "\\item[dummy\\textbackslash{}\\_Shell] 1.49853164266993\n",
       "\\item[dummy\\textbackslash{}\\_Auchan] 1.06599474006217\n",
       "\\item[dummy\\textbackslash{}\\_Omv] 1.46545672712675\n",
       "\\item[dummy\\textbackslash{}\\_Orlen] 1.32407414891499\n",
       "\\item[dummy\\textbackslash{}\\_nagykkozseg] 1.17477592725836\n",
       "\\item[dummy\\textbackslash{}\\_kozseg] 1.5380072387393\n",
       "\\item[log\\textbackslash{}\\_popper\\textbackslash{}\\_modified] 7.55378579755101\n",
       "\\item[log\\textbackslash{}\\_nearest\\textbackslash{}\\_diff\\textbackslash{}\\_brand\\textbackslash{}\\_km] 6.30094800555485\n",
       "\\item[Population] 1.41010478492354\n",
       "\\end{description*}\n"
      ],
      "text/markdown": [
       "is_motorway\n",
       ":   1.1842812971221dummy_Mol\n",
       ":   1.68453718778488dummy_Shell\n",
       ":   1.49853164266993dummy_Auchan\n",
       ":   1.06599474006217dummy_Omv\n",
       ":   1.46545672712675dummy_Orlen\n",
       ":   1.32407414891499dummy_nagykkozseg\n",
       ":   1.17477592725836dummy_kozseg\n",
       ":   1.5380072387393log_popper_modified\n",
       ":   7.55378579755101log_nearest_diff_brand_km\n",
       ":   6.30094800555485Population\n",
       ":   1.41010478492354\n",
       "\n"
      ],
      "text/plain": [
       "              is_motorway                 dummy_Mol               dummy_Shell \n",
       "                 1.184281                  1.684537                  1.498532 \n",
       "             dummy_Auchan                 dummy_Omv               dummy_Orlen \n",
       "                 1.065995                  1.465457                  1.324074 \n",
       "        dummy_nagykkozseg              dummy_kozseg       log_popper_modified \n",
       "                 1.174776                  1.538007                  7.553786 \n",
       "log_nearest_diff_brand_km                Population \n",
       "                 6.300948                  1.410105 "
      ]
     },
     "metadata": {},
     "output_type": "display_data"
    },
    {
     "data": {
      "text/html": [
       "<style>\n",
       ".dl-inline {width: auto; margin:0; padding: 0}\n",
       ".dl-inline>dt, .dl-inline>dd {float: none; width: auto; display: inline-block}\n",
       ".dl-inline>dt::after {content: \":\\0020\"; padding-right: .5ex}\n",
       ".dl-inline>dt:not(:first-of-type) {padding-left: .5ex}\n",
       "</style><dl class=dl-inline><dt>log_popper_modified</dt><dd>7.55378579755101</dd><dt>log_nearest_diff_brand_km</dt><dd>6.30094800555485</dd><dt>dummy_Mol</dt><dd>1.68453718778488</dd><dt>dummy_kozseg</dt><dd>1.5380072387393</dd><dt>dummy_Shell</dt><dd>1.49853164266993</dd><dt>dummy_Omv</dt><dd>1.46545672712675</dd><dt>Population</dt><dd>1.41010478492354</dd><dt>dummy_Orlen</dt><dd>1.32407414891499</dd><dt>is_motorway</dt><dd>1.1842812971221</dd><dt>dummy_nagykkozseg</dt><dd>1.17477592725836</dd><dt>dummy_Auchan</dt><dd>1.06599474006217</dd></dl>\n"
      ],
      "text/latex": [
       "\\begin{description*}\n",
       "\\item[log\\textbackslash{}\\_popper\\textbackslash{}\\_modified] 7.55378579755101\n",
       "\\item[log\\textbackslash{}\\_nearest\\textbackslash{}\\_diff\\textbackslash{}\\_brand\\textbackslash{}\\_km] 6.30094800555485\n",
       "\\item[dummy\\textbackslash{}\\_Mol] 1.68453718778488\n",
       "\\item[dummy\\textbackslash{}\\_kozseg] 1.5380072387393\n",
       "\\item[dummy\\textbackslash{}\\_Shell] 1.49853164266993\n",
       "\\item[dummy\\textbackslash{}\\_Omv] 1.46545672712675\n",
       "\\item[Population] 1.41010478492354\n",
       "\\item[dummy\\textbackslash{}\\_Orlen] 1.32407414891499\n",
       "\\item[is\\textbackslash{}\\_motorway] 1.1842812971221\n",
       "\\item[dummy\\textbackslash{}\\_nagykkozseg] 1.17477592725836\n",
       "\\item[dummy\\textbackslash{}\\_Auchan] 1.06599474006217\n",
       "\\end{description*}\n"
      ],
      "text/markdown": [
       "log_popper_modified\n",
       ":   7.55378579755101log_nearest_diff_brand_km\n",
       ":   6.30094800555485dummy_Mol\n",
       ":   1.68453718778488dummy_kozseg\n",
       ":   1.5380072387393dummy_Shell\n",
       ":   1.49853164266993dummy_Omv\n",
       ":   1.46545672712675Population\n",
       ":   1.41010478492354dummy_Orlen\n",
       ":   1.32407414891499is_motorway\n",
       ":   1.1842812971221dummy_nagykkozseg\n",
       ":   1.17477592725836dummy_Auchan\n",
       ":   1.06599474006217\n",
       "\n"
      ],
      "text/plain": [
       "      log_popper_modified log_nearest_diff_brand_km                 dummy_Mol \n",
       "                 7.553786                  6.300948                  1.684537 \n",
       "             dummy_kozseg               dummy_Shell                 dummy_Omv \n",
       "                 1.538007                  1.498532                  1.465457 \n",
       "               Population               dummy_Orlen               is_motorway \n",
       "                 1.410105                  1.324074                  1.184281 \n",
       "        dummy_nagykkozseg              dummy_Auchan \n",
       "                 1.174776                  1.065995 "
      ]
     },
     "metadata": {},
     "output_type": "display_data"
    },
    {
     "data": {
      "image/png": "[encoded data removed]",
      "text/plain": [
       "Plot with title \"Normal Q-Q Plot\""
      ]
     },
     "metadata": {
      "image/png": {
       "height": 420,
       "width": 420
      }
     },
     "output_type": "display_data"
    }
   ],
   "source": [
    "# feltételezem, hogy m_fit már létezik\n",
    "library(ggplot2)\n",
    "library(lmtest)\n",
    "library(car)\n",
    "library(dplyr)\n",
    "\n",
    "# --- 1. Y vs reziduálisok ábra ---\n",
    "fuel_prices$fit <- fitted(m_fit)\n",
    "fuel_prices$resid <- resid(m_fit)\n",
    "\n",
    "ggplot(fuel_prices, aes(x = fit, y = resid)) +\n",
    "  geom_point(alpha = 0.6) +\n",
    "  geom_hline(yintercept = 0, linetype = \"dashed\", color = \"red\") +\n",
    "  labs(\n",
    "    x = \"Illesztett értékek\",\n",
    "    y = \"Reziduálisok\",\n",
    "    title = \"Illesztett értékek vs. reziduálisok\"\n",
    "  ) +\n",
    "  theme_minimal()\n",
    "\n",
    "# --- 2. Breusch–Pagan teszt (heteroszkedaszticitásra) ---\n",
    "bp_result <- bptest(m_fit)\n",
    "bp_result\n",
    "\n",
    "# --- 3. QQ-plot a reziduálisokra ---\n",
    "qqnorm(resid(m_fit))\n",
    "qqline(resid(m_fit), col = \"red\", lwd = 2)\n",
    "\n",
    "# --- 4. Normalitás teszt (Shapiro–Wilk) ---\n",
    "shapiro_test <- shapiro.test(resid(m_fit))\n",
    "shapiro_test\n",
    "\n",
    "# --- 5. Multikollinearitás (VIF) ---\n",
    "vif_values <- car::vif(m_fit)\n",
    "vif_values\n",
    "\n",
    "# Ha szeretnéd, sorba rendezve is:\n",
    "vif_values[order(vif_values, decreasing = TRUE)]\n"
   ]
  },
  {
   "cell_type": "code",
   "execution_count": 53,
   "id": "e0aa8649",
   "metadata": {
    "vscode": {
     "languageId": "r"
    }
   },
   "outputs": [
    {
     "data": {
      "text/html": [
       "<table class=\"dataframe\">\n",
       "<caption>A anova: 2 × 6</caption>\n",
       "<thead>\n",
       "\t<tr><th></th><th scope=col>Res.Df</th><th scope=col>RSS</th><th scope=col>Df</th><th scope=col>Sum of Sq</th><th scope=col>F</th><th scope=col>Pr(&gt;F)</th></tr>\n",
       "\t<tr><th></th><th scope=col>&lt;dbl&gt;</th><th scope=col>&lt;dbl&gt;</th><th scope=col>&lt;dbl&gt;</th><th scope=col>&lt;dbl&gt;</th><th scope=col>&lt;dbl&gt;</th><th scope=col>&lt;dbl&gt;</th></tr>\n",
       "</thead>\n",
       "<tbody>\n",
       "\t<tr><th scope=row>1</th><td>1179</td><td>40749.94</td><td>NA</td><td>      NA</td><td>     NA</td><td>       NA</td></tr>\n",
       "\t<tr><th scope=row>2</th><td>1176</td><td>40616.80</td><td> 3</td><td>133.1402</td><td>1.28496</td><td>0.2780995</td></tr>\n",
       "</tbody>\n",
       "</table>\n"
      ],
      "text/latex": [
       "A anova: 2 × 6\n",
       "\\begin{tabular}{r|llllll}\n",
       "  & Res.Df & RSS & Df & Sum of Sq & F & Pr(>F)\\\\\n",
       "  & <dbl> & <dbl> & <dbl> & <dbl> & <dbl> & <dbl>\\\\\n",
       "\\hline\n",
       "\t1 & 1179 & 40749.94 & NA &       NA &      NA &        NA\\\\\n",
       "\t2 & 1176 & 40616.80 &  3 & 133.1402 & 1.28496 & 0.2780995\\\\\n",
       "\\end{tabular}\n"
      ],
      "text/markdown": [
       "\n",
       "A anova: 2 × 6\n",
       "\n",
       "| <!--/--> | Res.Df &lt;dbl&gt; | RSS &lt;dbl&gt; | Df &lt;dbl&gt; | Sum of Sq &lt;dbl&gt; | F &lt;dbl&gt; | Pr(&gt;F) &lt;dbl&gt; |\n",
       "|---|---|---|---|---|---|---|\n",
       "| 1 | 1179 | 40749.94 | NA |       NA |      NA |        NA |\n",
       "| 2 | 1176 | 40616.80 |  3 | 133.1402 | 1.28496 | 0.2780995 |\n",
       "\n"
      ],
      "text/plain": [
       "  Res.Df RSS      Df Sum of Sq F       Pr(>F)   \n",
       "1 1179   40749.94 NA       NA       NA        NA\n",
       "2 1176   40616.80  3 133.1402  1.28496 0.2780995"
      ]
     },
     "metadata": {},
     "output_type": "display_data"
    }
   ],
   "source": [
    "m1 <- lm(\n",
    "  Diesel ~ is_motorway + dummy_Mol + dummy_Shell + dummy_Auchan +\n",
    "    dummy_Omv + dummy_Orlen + dummy_nagykkozseg + dummy_kozseg +\n",
    "    log_popper_modified + log_nearest_diff_brand_km + Population,\n",
    "  data = fuel_prices\n",
    ")\n",
    "\n",
    "m2 <- lm(\n",
    "  Diesel ~ is_motorway + dummy_Mol + dummy_Shell + dummy_Auchan +\n",
    "    dummy_Omv + dummy_Orlen + dummy_Mobil_Petrol + dummy_nagykkozseg +\n",
    "    dummy_kozseg + log_popper_modified + log_nearest_diff_brand_km +\n",
    "    Population + dummy_Edo + dummy_Oranges_Oil_Company,\n",
    "  data = fuel_prices\n",
    ")\n",
    "\n",
    "anova(m1, m2)\n"
   ]
  },
  {
   "cell_type": "code",
   "execution_count": 58,
   "id": "684427d4",
   "metadata": {
    "vscode": {
     "languageId": "r"
    }
   },
   "outputs": [
    {
     "data": {
      "text/html": [
       "<table class=\"dataframe\">\n",
       "<caption>A tibble: 5 × 2</caption>\n",
       "<thead>\n",
       "\t<tr><th scope=col>id</th><th scope=col>R2_out</th></tr>\n",
       "\t<tr><th scope=col>&lt;chr&gt;</th><th scope=col>&lt;dbl&gt;</th></tr>\n",
       "</thead>\n",
       "<tbody>\n",
       "\t<tr><td>Fold1</td><td>0.8167280</td></tr>\n",
       "\t<tr><td>Fold2</td><td>0.7274174</td></tr>\n",
       "\t<tr><td>Fold3</td><td>0.8018164</td></tr>\n",
       "\t<tr><td>Fold4</td><td>0.7518163</td></tr>\n",
       "\t<tr><td>Fold5</td><td>0.8392853</td></tr>\n",
       "</tbody>\n",
       "</table>\n"
      ],
      "text/latex": [
       "A tibble: 5 × 2\n",
       "\\begin{tabular}{ll}\n",
       " id & R2\\_out\\\\\n",
       " <chr> & <dbl>\\\\\n",
       "\\hline\n",
       "\t Fold1 & 0.8167280\\\\\n",
       "\t Fold2 & 0.7274174\\\\\n",
       "\t Fold3 & 0.8018164\\\\\n",
       "\t Fold4 & 0.7518163\\\\\n",
       "\t Fold5 & 0.8392853\\\\\n",
       "\\end{tabular}\n"
      ],
      "text/markdown": [
       "\n",
       "A tibble: 5 × 2\n",
       "\n",
       "| id &lt;chr&gt; | R2_out &lt;dbl&gt; |\n",
       "|---|---|\n",
       "| Fold1 | 0.8167280 |\n",
       "| Fold2 | 0.7274174 |\n",
       "| Fold3 | 0.8018164 |\n",
       "| Fold4 | 0.7518163 |\n",
       "| Fold5 | 0.8392853 |\n",
       "\n"
      ],
      "text/plain": [
       "  id    R2_out   \n",
       "1 Fold1 0.8167280\n",
       "2 Fold2 0.7274174\n",
       "3 Fold3 0.8018164\n",
       "4 Fold4 0.7518163\n",
       "5 Fold5 0.8392853"
      ]
     },
     "metadata": {},
     "output_type": "display_data"
    },
    {
     "data": {
      "text/html": [
       "0.787412672743852"
      ],
      "text/latex": [
       "0.787412672743852"
      ],
      "text/markdown": [
       "0.787412672743852"
      ],
      "text/plain": [
       "[1] 0.7874127"
      ]
     },
     "metadata": {},
     "output_type": "display_data"
    }
   ],
   "source": [
    "library(estimatr)\n",
    "library(rsample)\n",
    "library(dplyr)\n",
    "library(purrr)\n",
    "\n",
    "set.seed(120)\n",
    "\n",
    "# 5-fold cross-validation\n",
    "folds <- vfold_cv(fuel_prices, v = 5)\n",
    "\n",
    "# m1 formula\n",
    "formula_m1 <- Diesel ~ is_motorway + dummy_Mol + dummy_Shell + dummy_Auchan +\n",
    "  dummy_Omv + dummy_Orlen + dummy_nagykkozseg + dummy_kozseg +\n",
    "  log_popper_modified + log_nearest_diff_brand_km + Population\n",
    "\n",
    "cv_results <- folds %>%\n",
    "  mutate(\n",
    "    model = map(splits, ~ lm_robust(formula_m1, data = analysis(.x))),\n",
    "    preds = map2(model, splits, ~ {\n",
    "      test_data <- assessment(.y)\n",
    "      test_data$pred <- predict(.x, newdata = test_data)\n",
    "      test_data\n",
    "    }),\n",
    "    # OOS R^2 a mintád szerint (test-mean az SST-hez)\n",
    "    R2_out = map_dbl(preds, ~ with(.x, 1 - sum((Diesel - pred)^2) /\n",
    "                                      sum((Diesel - mean(Diesel))^2)))\n",
    "  )\n",
    "\n",
    "# Foldonkénti és átlagos OOS R^2\n",
    "cv_results %>% select(id, R2_out)\n",
    "mean(cv_results$R2_out)\n"
   ]
  },
  {
   "cell_type": "code",
   "execution_count": null,
   "id": "a1171a1c",
   "metadata": {
    "vscode": {
     "languageId": "r"
    }
   },
   "outputs": [],
   "source": []
  },
  {
   "cell_type": "markdown",
   "id": "e1cbba47",
   "metadata": {
    "vscode": {
     "languageId": "r"
    }
   },
   "source": [
    "0.7866244 vs 0.787412672743852 még jobb is"
   ]
  },
  {
   "cell_type": "code",
   "execution_count": null,
   "id": "3fb71117",
   "metadata": {
    "vscode": {
     "languageId": "r"
    }
   },
   "outputs": [],
   "source": [
    "Diff"
   ]
  },
  {
   "cell_type": "code",
   "execution_count": 61,
   "id": "0ec5e29a",
   "metadata": {
    "vscode": {
     "languageId": "r"
    }
   },
   "outputs": [
    {
     "data": {
      "text/plain": [
       "\n",
       "Call:\n",
       "lm(formula = Diff ~ dummy_GROVI_Kft + dummy_Oil + dummy_Volnbusz_Zrt + \n",
       "    dummy_Mol + dummy_Orlen + dummy_Concordia_Trans_Kft + dummy_Auchan + \n",
       "    dummy_Mobil_Petrol + dummy_Oplus_Kft + dummy_Omv + dummy_Hunpetrol_2018_Kft + \n",
       "    dummy_Shell, data = fuel_prices, na.action = na.exclude)\n",
       "\n",
       "Residuals:\n",
       "     Min       1Q   Median       3Q      Max \n",
       "-28.7708   0.0104   0.0560   0.3162  22.0863 \n",
       "\n",
       "Coefficients:\n",
       "                          Estimate Std. Error t value Pr(>|t|)    \n",
       "(Intercept)                 5.4851     0.1993  27.517  < 2e-16 ***\n",
       "dummy_GROVI_Kft            -2.7708     1.1993  -2.310 0.021043 *  \n",
       "dummy_Oil                   1.9430     0.5466   3.555 0.000393 ***\n",
       "dummy_Volnbusz_Zrt         -3.6867     1.0192  -3.617 0.000310 ***\n",
       "dummy_Mol                   1.1732     0.2399   4.889 1.15e-06 ***\n",
       "dummy_Orlen                 1.3568     0.3007   4.512 7.06e-06 ***\n",
       "dummy_Concordia_Trans_Kft   4.6816     1.0978   4.264 2.17e-05 ***\n",
       "dummy_Auchan               -3.2254     0.6386  -5.051 5.10e-07 ***\n",
       "dummy_Mobil_Petrol          2.3782     0.4271   5.568 3.19e-08 ***\n",
       "dummy_Oplus_Kft            -7.5089     1.0978  -6.840 1.27e-11 ***\n",
       "dummy_Omv                   2.5122     0.2835   8.860  < 2e-16 ***\n",
       "dummy_Hunpetrol_2018_Kft    1.2783     0.7890   1.620 0.105473    \n",
       "dummy_Shell                 0.6272     0.2796   2.244 0.025043 *  \n",
       "---\n",
       "Signif. codes:  0 '***' 0.001 '**' 0.01 '*' 0.05 '.' 0.1 ' ' 1\n",
       "\n",
       "Residual standard error: 2.644 on 1178 degrees of freedom\n",
       "Multiple R-squared:  0.1808,\tAdjusted R-squared:  0.1724 \n",
       "F-statistic: 21.66 on 12 and 1178 DF,  p-value: < 2.2e-16\n"
      ]
     },
     "metadata": {},
     "output_type": "display_data"
    }
   ],
   "source": [
    "# Lineáris regresszió a megadott specifikációval\n",
    "m_fit <- lm(\n",
    "Diff ~ dummy_GROVI_Kft + dummy_Oil + dummy_Volnbusz_Zrt + dummy_Mol + dummy_Orlen + dummy_Concordia_Trans_Kft + dummy_Auchan + dummy_Mobil_Petrol + dummy_Oplus_Kft + dummy_Omv + dummy_Hunpetrol_2018_Kft + dummy_Shell,  data = fuel_prices,\n",
    "  na.action = na.exclude\n",
    ")\n",
    "\n",
    "# Eredmények\n",
    "summary(m_fit)"
   ]
  },
  {
   "cell_type": "code",
   "execution_count": 62,
   "id": "ad66f021",
   "metadata": {
    "vscode": {
     "languageId": "r"
    }
   },
   "outputs": [
    {
     "data": {
      "text/html": [
       "<table class=\"dataframe\">\n",
       "<caption>A anova: 2 × 6</caption>\n",
       "<thead>\n",
       "\t<tr><th></th><th scope=col>Res.Df</th><th scope=col>RSS</th><th scope=col>Df</th><th scope=col>Sum of Sq</th><th scope=col>F</th><th scope=col>Pr(&gt;F)</th></tr>\n",
       "\t<tr><th></th><th scope=col>&lt;dbl&gt;</th><th scope=col>&lt;dbl&gt;</th><th scope=col>&lt;dbl&gt;</th><th scope=col>&lt;dbl&gt;</th><th scope=col>&lt;dbl&gt;</th><th scope=col>&lt;dbl&gt;</th></tr>\n",
       "</thead>\n",
       "<tbody>\n",
       "\t<tr><th scope=row>1</th><td>1180</td><td>8283.871</td><td>NA</td><td>      NA</td><td>      NA</td><td>        NA</td></tr>\n",
       "\t<tr><th scope=row>2</th><td>1178</td><td>8237.982</td><td> 2</td><td>45.88897</td><td>3.280974</td><td>0.03793544</td></tr>\n",
       "</tbody>\n",
       "</table>\n"
      ],
      "text/latex": [
       "A anova: 2 × 6\n",
       "\\begin{tabular}{r|llllll}\n",
       "  & Res.Df & RSS & Df & Sum of Sq & F & Pr(>F)\\\\\n",
       "  & <dbl> & <dbl> & <dbl> & <dbl> & <dbl> & <dbl>\\\\\n",
       "\\hline\n",
       "\t1 & 1180 & 8283.871 & NA &       NA &       NA &         NA\\\\\n",
       "\t2 & 1178 & 8237.982 &  2 & 45.88897 & 3.280974 & 0.03793544\\\\\n",
       "\\end{tabular}\n"
      ],
      "text/markdown": [
       "\n",
       "A anova: 2 × 6\n",
       "\n",
       "| <!--/--> | Res.Df &lt;dbl&gt; | RSS &lt;dbl&gt; | Df &lt;dbl&gt; | Sum of Sq &lt;dbl&gt; | F &lt;dbl&gt; | Pr(&gt;F) &lt;dbl&gt; |\n",
       "|---|---|---|---|---|---|---|\n",
       "| 1 | 1180 | 8283.871 | NA |       NA |       NA |         NA |\n",
       "| 2 | 1178 | 8237.982 |  2 | 45.88897 | 3.280974 | 0.03793544 |\n",
       "\n"
      ],
      "text/plain": [
       "  Res.Df RSS      Df Sum of Sq F        Pr(>F)    \n",
       "1 1180   8283.871 NA       NA        NA         NA\n",
       "2 1178   8237.982  2 45.88897  3.280974 0.03793544"
      ]
     },
     "metadata": {},
     "output_type": "display_data"
    }
   ],
   "source": [
    "m1 <- lm(\n",
    "  Diff ~ dummy_GROVI_Kft + dummy_Oil + dummy_Volnbusz_Zrt + dummy_Mol + dummy_Orlen + dummy_Concordia_Trans_Kft + dummy_Auchan + dummy_Mobil_Petrol + dummy_Oplus_Kft + dummy_Omv,\n",
    "  data = fuel_prices\n",
    ")\n",
    "\n",
    "m2 <- lm(\n",
    "  Diff ~ dummy_GROVI_Kft + dummy_Oil + dummy_Volnbusz_Zrt + dummy_Mol + dummy_Orlen + dummy_Concordia_Trans_Kft + dummy_Auchan + dummy_Mobil_Petrol + dummy_Oplus_Kft + dummy_Omv + dummy_Hunpetrol_2018_Kft + dummy_Shell,\n",
    "  data = fuel_prices\n",
    ")\n",
    "\n",
    "anova(m1, m2)"
   ]
  },
  {
   "cell_type": "code",
   "execution_count": 64,
   "id": "abb2982a",
   "metadata": {
    "vscode": {
     "languageId": "r"
    }
   },
   "outputs": [
    {
     "data": {
      "text/plain": [
       "\n",
       "\tstudentized Breusch-Pagan test\n",
       "\n",
       "data:  m_fit\n",
       "BP = 111.19, df = 12, p-value < 2.2e-16\n"
      ]
     },
     "metadata": {},
     "output_type": "display_data"
    },
    {
     "data": {
      "image/png": "[encoded data removed]",
      "text/plain": [
       "plot without title"
      ]
     },
     "metadata": {
      "image/png": {
       "height": 420,
       "width": 420
      }
     },
     "output_type": "display_data"
    },
    {
     "data": {
      "text/plain": [
       "\n",
       "\tShapiro-Wilk normality test\n",
       "\n",
       "data:  resid(m_fit)\n",
       "W = 0.58973, p-value < 2.2e-16\n"
      ]
     },
     "metadata": {},
     "output_type": "display_data"
    },
    {
     "data": {
      "text/html": [
       "<style>\n",
       ".dl-inline {width: auto; margin:0; padding: 0}\n",
       ".dl-inline>dt, .dl-inline>dd {float: none; width: auto; display: inline-block}\n",
       ".dl-inline>dt::after {content: \":\\0020\"; padding-right: .5ex}\n",
       ".dl-inline>dt:not(:first-of-type) {padding-left: .5ex}\n",
       "</style><dl class=dl-inline><dt>dummy_GROVI_Kft</dt><dd>1.02409167239142</dd><dt>dummy_Oil</dt><dd>1.12726127776506</dd><dt>dummy_Volnbusz_Zrt</dt><dd>1.03366155255324</dd><dt>dummy_Mol</dt><dd>2.16506373559271</dd><dt>dummy_Orlen</dt><dd>1.57737004808793</dd><dt>dummy_Concordia_Trans_Kft</dt><dd>1.02888138310053</dd><dt>dummy_Auchan</dt><dd>1.09027936798718</dd><dt>dummy_Mobil_Petrol</dt><dd>1.22581291504465</dd><dt>dummy_Oplus_Kft</dt><dd>1.02888138310053</dd><dt>dummy_Omv</dt><dd>1.69172200595375</dd><dt>dummy_Hunpetrol_2018_Kft</dt><dd>1.05741928097092</dd><dt>dummy_Shell</dt><dd>1.72325585833143</dd></dl>\n"
      ],
      "text/latex": [
       "\\begin{description*}\n",
       "\\item[dummy\\textbackslash{}\\_GROVI\\textbackslash{}\\_Kft] 1.02409167239142\n",
       "\\item[dummy\\textbackslash{}\\_Oil] 1.12726127776506\n",
       "\\item[dummy\\textbackslash{}\\_Volnbusz\\textbackslash{}\\_Zrt] 1.03366155255324\n",
       "\\item[dummy\\textbackslash{}\\_Mol] 2.16506373559271\n",
       "\\item[dummy\\textbackslash{}\\_Orlen] 1.57737004808793\n",
       "\\item[dummy\\textbackslash{}\\_Concordia\\textbackslash{}\\_Trans\\textbackslash{}\\_Kft] 1.02888138310053\n",
       "\\item[dummy\\textbackslash{}\\_Auchan] 1.09027936798718\n",
       "\\item[dummy\\textbackslash{}\\_Mobil\\textbackslash{}\\_Petrol] 1.22581291504465\n",
       "\\item[dummy\\textbackslash{}\\_Oplus\\textbackslash{}\\_Kft] 1.02888138310053\n",
       "\\item[dummy\\textbackslash{}\\_Omv] 1.69172200595375\n",
       "\\item[dummy\\textbackslash{}\\_Hunpetrol\\textbackslash{}\\_2018\\textbackslash{}\\_Kft] 1.05741928097092\n",
       "\\item[dummy\\textbackslash{}\\_Shell] 1.72325585833143\n",
       "\\end{description*}\n"
      ],
      "text/markdown": [
       "dummy_GROVI_Kft\n",
       ":   1.02409167239142dummy_Oil\n",
       ":   1.12726127776506dummy_Volnbusz_Zrt\n",
       ":   1.03366155255324dummy_Mol\n",
       ":   2.16506373559271dummy_Orlen\n",
       ":   1.57737004808793dummy_Concordia_Trans_Kft\n",
       ":   1.02888138310053dummy_Auchan\n",
       ":   1.09027936798718dummy_Mobil_Petrol\n",
       ":   1.22581291504465dummy_Oplus_Kft\n",
       ":   1.02888138310053dummy_Omv\n",
       ":   1.69172200595375dummy_Hunpetrol_2018_Kft\n",
       ":   1.05741928097092dummy_Shell\n",
       ":   1.72325585833143\n",
       "\n"
      ],
      "text/plain": [
       "          dummy_GROVI_Kft                 dummy_Oil        dummy_Volnbusz_Zrt \n",
       "                 1.024092                  1.127261                  1.033662 \n",
       "                dummy_Mol               dummy_Orlen dummy_Concordia_Trans_Kft \n",
       "                 2.165064                  1.577370                  1.028881 \n",
       "             dummy_Auchan        dummy_Mobil_Petrol           dummy_Oplus_Kft \n",
       "                 1.090279                  1.225813                  1.028881 \n",
       "                dummy_Omv  dummy_Hunpetrol_2018_Kft               dummy_Shell \n",
       "                 1.691722                  1.057419                  1.723256 "
      ]
     },
     "metadata": {},
     "output_type": "display_data"
    },
    {
     "data": {
      "text/html": [
       "<style>\n",
       ".dl-inline {width: auto; margin:0; padding: 0}\n",
       ".dl-inline>dt, .dl-inline>dd {float: none; width: auto; display: inline-block}\n",
       ".dl-inline>dt::after {content: \":\\0020\"; padding-right: .5ex}\n",
       ".dl-inline>dt:not(:first-of-type) {padding-left: .5ex}\n",
       "</style><dl class=dl-inline><dt>dummy_Mol</dt><dd>2.16506373559271</dd><dt>dummy_Shell</dt><dd>1.72325585833143</dd><dt>dummy_Omv</dt><dd>1.69172200595375</dd><dt>dummy_Orlen</dt><dd>1.57737004808793</dd><dt>dummy_Mobil_Petrol</dt><dd>1.22581291504465</dd><dt>dummy_Oil</dt><dd>1.12726127776506</dd><dt>dummy_Auchan</dt><dd>1.09027936798718</dd><dt>dummy_Hunpetrol_2018_Kft</dt><dd>1.05741928097092</dd><dt>dummy_Volnbusz_Zrt</dt><dd>1.03366155255324</dd><dt>dummy_Oplus_Kft</dt><dd>1.02888138310053</dd><dt>dummy_Concordia_Trans_Kft</dt><dd>1.02888138310053</dd><dt>dummy_GROVI_Kft</dt><dd>1.02409167239142</dd></dl>\n"
      ],
      "text/latex": [
       "\\begin{description*}\n",
       "\\item[dummy\\textbackslash{}\\_Mol] 2.16506373559271\n",
       "\\item[dummy\\textbackslash{}\\_Shell] 1.72325585833143\n",
       "\\item[dummy\\textbackslash{}\\_Omv] 1.69172200595375\n",
       "\\item[dummy\\textbackslash{}\\_Orlen] 1.57737004808793\n",
       "\\item[dummy\\textbackslash{}\\_Mobil\\textbackslash{}\\_Petrol] 1.22581291504465\n",
       "\\item[dummy\\textbackslash{}\\_Oil] 1.12726127776506\n",
       "\\item[dummy\\textbackslash{}\\_Auchan] 1.09027936798718\n",
       "\\item[dummy\\textbackslash{}\\_Hunpetrol\\textbackslash{}\\_2018\\textbackslash{}\\_Kft] 1.05741928097092\n",
       "\\item[dummy\\textbackslash{}\\_Volnbusz\\textbackslash{}\\_Zrt] 1.03366155255324\n",
       "\\item[dummy\\textbackslash{}\\_Oplus\\textbackslash{}\\_Kft] 1.02888138310053\n",
       "\\item[dummy\\textbackslash{}\\_Concordia\\textbackslash{}\\_Trans\\textbackslash{}\\_Kft] 1.02888138310053\n",
       "\\item[dummy\\textbackslash{}\\_GROVI\\textbackslash{}\\_Kft] 1.02409167239142\n",
       "\\end{description*}\n"
      ],
      "text/markdown": [
       "dummy_Mol\n",
       ":   2.16506373559271dummy_Shell\n",
       ":   1.72325585833143dummy_Omv\n",
       ":   1.69172200595375dummy_Orlen\n",
       ":   1.57737004808793dummy_Mobil_Petrol\n",
       ":   1.22581291504465dummy_Oil\n",
       ":   1.12726127776506dummy_Auchan\n",
       ":   1.09027936798718dummy_Hunpetrol_2018_Kft\n",
       ":   1.05741928097092dummy_Volnbusz_Zrt\n",
       ":   1.03366155255324dummy_Oplus_Kft\n",
       ":   1.02888138310053dummy_Concordia_Trans_Kft\n",
       ":   1.02888138310053dummy_GROVI_Kft\n",
       ":   1.02409167239142\n",
       "\n"
      ],
      "text/plain": [
       "                dummy_Mol               dummy_Shell                 dummy_Omv \n",
       "                 2.165064                  1.723256                  1.691722 \n",
       "              dummy_Orlen        dummy_Mobil_Petrol                 dummy_Oil \n",
       "                 1.577370                  1.225813                  1.127261 \n",
       "             dummy_Auchan  dummy_Hunpetrol_2018_Kft        dummy_Volnbusz_Zrt \n",
       "                 1.090279                  1.057419                  1.033662 \n",
       "          dummy_Oplus_Kft dummy_Concordia_Trans_Kft           dummy_GROVI_Kft \n",
       "                 1.028881                  1.028881                  1.024092 "
      ]
     },
     "metadata": {},
     "output_type": "display_data"
    },
    {
     "data": {
      "image/png": "[encoded data removed]",
      "text/plain": [
       "Plot with title \"Normal Q-Q Plot\""
      ]
     },
     "metadata": {
      "image/png": {
       "height": 420,
       "width": 420
      }
     },
     "output_type": "display_data"
    }
   ],
   "source": [
    "# feltételezem, hogy m_fit már létezik\n",
    "library(ggplot2)\n",
    "library(lmtest)\n",
    "library(car)\n",
    "library(dplyr)\n",
    "\n",
    "# --- 1. Y vs reziduálisok ábra ---\n",
    "fuel_prices$fit <- fitted(m_fit)\n",
    "fuel_prices$resid <- resid(m_fit)\n",
    "\n",
    "ggplot(fuel_prices, aes(x = fit, y = resid)) +\n",
    "  geom_point(alpha = 0.6) +\n",
    "  geom_hline(yintercept = 0, linetype = \"dashed\", color = \"red\") +\n",
    "  labs(\n",
    "    x = \"fitted values\",\n",
    "    y = \"residuals\",\n",
    "    title = \"Fitted values vs. residuals\"\n",
    "  ) +\n",
    "  theme_minimal()\n",
    "\n",
    "# --- 2. Breusch–Pagan teszt (heteroszkedaszticitásra) ---\n",
    "bp_result <- bptest(m_fit)\n",
    "bp_result\n",
    "\n",
    "# --- 3. QQ-plot a reziduálisokra ---\n",
    "qqnorm(resid(m_fit))\n",
    "qqline(resid(m_fit), col = \"red\", lwd = 2)\n",
    "\n",
    "# --- 4. Normalitás teszt (Shapiro–Wilk) ---\n",
    "shapiro_test <- shapiro.test(resid(m_fit))\n",
    "shapiro_test\n",
    "\n",
    "# --- 5. Multikollinearitás (VIF) ---\n",
    "vif_values <- car::vif(m_fit)\n",
    "vif_values\n",
    "\n",
    "# Ha szeretnéd, sorba rendezve is:\n",
    "vif_values[order(vif_values, decreasing = TRUE)]"
   ]
  }
 ],
 "metadata": {
  "kernelspec": {
   "display_name": "R",
   "language": "R",
   "name": "ir"
  },
  "language_info": {
   "codemirror_mode": "r",
   "file_extension": ".r",
   "mimetype": "text/x-r-source",
   "name": "R",
   "pygments_lexer": "r",
   "version": "4.4.2"
  }
 },
 "nbformat": 4,
 "nbformat_minor": 5
}
